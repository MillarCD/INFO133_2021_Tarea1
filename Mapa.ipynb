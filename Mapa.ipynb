{
 "cells": [
  {
   "cell_type": "code",
   "execution_count": null,
   "id": "0cc6f187",
   "metadata": {},
   "outputs": [],
   "source": [
    "import numpy as np\n",
    "import pandas as pd\n",
    "from pymongo import MongoClient\n",
    "from IPython.display import Audio\n",
    "import ipywidgets as widgets\n",
    "import folium"
   ]
  },
  {
   "cell_type": "markdown",
   "id": "80dc9730",
   "metadata": {},
   "source": [
    "# Conectarse a la base de datos"
   ]
  },
  {
   "cell_type": "code",
   "execution_count": null,
   "id": "14e61986",
   "metadata": {},
   "outputs": [],
   "source": [
    "MONGO_URI = 'mongodb://localhost:27017'\n",
    "client = MongoClient(MONGO_URI)\n",
    "\n",
    "db = client['FuSA_Diego']\n",
    "collectionArchivos = db[\"archivos\"]"
   ]
  },
  {
   "cell_type": "markdown",
   "id": "4a481d49",
   "metadata": {},
   "source": [
    "## generar los datos necesarios para los widgets"
   ]
  },
  {
   "cell_type": "code",
   "execution_count": null,
   "id": "422fc8dd",
   "metadata": {},
   "outputs": [],
   "source": [
    "## Fechas sin repeticion\n",
    "setFechas = []\n",
    "fechasSubidas = collectionArchivos.find({},{'fecha_grabacion':1,'_id':0})\n",
    "for i in fechasSubidas:\n",
    "    setFechas.append(i.get(\"fecha_upload\"))\n",
    "setFechas.append(\"Todo\")\n",
    "setFechas = set(setFechas)\n",
    "\n",
    "elegirFechas = widgets.Combobox(\n",
    "                                placeholder='DD-MM-YY/(Todo)',\n",
    "                                options=list(setFechas),\n",
    "                                description='Fecha:',\n",
    "                                ensure_option=True,\n",
    "                                disabled=False\n",
    "                                )\n",
    "\n",
    "## Categorias\n",
    "categorias = ['Humanos','Musica','Animales','Medio ambientales','Mecanicos','Vehiculos','Alertas']\n",
    "def crearCheckBox(categoria):\n",
    "    return widgets.Checkbox(\n",
    "                            value=False,\n",
    "                            description=categoria,\n",
    "                            disabled=False\n",
    "                            )\n",
    "listaCB = [crearCheckBox(i) for i in categorias]"
   ]
  },
  {
   "cell_type": "markdown",
   "id": "63987471",
   "metadata": {},
   "source": [
    "## Crear mapa"
   ]
  },
  {
   "cell_type": "code",
   "execution_count": null,
   "id": "a4a65c14",
   "metadata": {
    "scrolled": false
   },
   "outputs": [],
   "source": [
    "m = folium.Map(location=[-39.814567654937946,-73.24711789824227],zoom_start=14)\n",
    "def boton_apretado(b):\n",
    "    categoriasElegidas = []\n",
    "    for tipo in listaCB:\n",
    "        if (tipo.value):\n",
    "            categoriasElegidas.append(tipo.description)\n",
    "    if (elegirFechas.value!=\"Todo\"):\n",
    "        fechaElegida = elegirFechas.values\n",
    "    else:\n",
    "        fechaElegida = \"\"\n",
    "    \n",
    "    condicion = {\"fuentes.tipo_fuente\":{'$in':categoriasElegidas},'fecha_grabacion':{'$regex':fechaElegida+\"$\"}}\n",
    "    mostrar = {'latitud':1,'longitud':1,'_id':0,\"fuentes.descripcion\":1,'audio':1}\n",
    "    consulta = collectionArchivos.find(condicion,mostrar)\n",
    "    for j,i in enumerate(consulta):\n",
    "        crearMarcadores(i.get('latitud'),i.get('longitud'),i.get('fuentes')[0].get('descripcion'),f\"Audio {j+1}\")\n",
    "        print(f\"Audio {j+1}:\")\n",
    "        display(Audio(i.get('audio')))\n",
    "        \n",
    "    coordenadas = collectionArchivos.find({},{'latitud':1,'longitud':1,'_id':0}) ## cambiar    \n",
    "    imprimirMapa()\n",
    "#---------------------------------------------\n",
    "\n",
    "def crearMarcadores(latitud,longitud,descripcion,tooltip):\n",
    "    frase = \"<i>\"+descripcion+\"</i>\"\n",
    "    m.add_child(folium.Marker(\n",
    "                [latitud,longitud], popup=frase,tooltip=tooltip  \n",
    "                ))\n",
    "    \n",
    "def imprimirMapa():\n",
    "    display(m)\n",
    "\n",
    "coordenadas = collectionArchivos.find({},{'latitud':1,'longitud':1,'_id':0}) ## cambiar\n",
    "push_data = widgets.Button(description='Aplicar cambios')\n",
    "display(elegirFechas)\n",
    "display(widgets.Box(listaCB))\n",
    "display(push_data)\n",
    "push_data.on_click(boton_apretado)"
   ]
  }
 ],
 "metadata": {
  "kernelspec": {
   "display_name": "Python 3",
   "language": "python",
   "name": "python3"
  },
  "language_info": {
   "codemirror_mode": {
    "name": "ipython",
    "version": 3
   },
   "file_extension": ".py",
   "mimetype": "text/x-python",
   "name": "python",
   "nbconvert_exporter": "python",
   "pygments_lexer": "ipython3",
   "version": "3.9.5"
  }
 },
 "nbformat": 4,
 "nbformat_minor": 5
}
