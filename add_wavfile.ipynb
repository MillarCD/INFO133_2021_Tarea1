{
 "cells": [
  {
   "cell_type": "markdown",
   "id": "742fc42a",
   "metadata": {},
   "source": [
    "## Guardar binarios de los audios para luego ponerlos en la BBDD"
   ]
  },
  {
   "cell_type": "code",
   "execution_count": 1,
   "id": "1672db77",
   "metadata": {},
   "outputs": [],
   "source": [
    "from pymongo import MongoClient"
   ]
  },
  {
   "cell_type": "code",
   "execution_count": 2,
   "id": "a3b0be90",
   "metadata": {},
   "outputs": [],
   "source": [
    "listaAudios = [\"perro\",\"ambulancia\",\"tormenta\",\"motosierra\",\"transporte_publico\"]\n",
    "listaBinarios = []\n",
    "\n",
    "for nombre_audio in listaAudios:\n",
    "    direccion = \"audios/\"+nombre_audio+\".wav\"\n",
    "    archivo = open(direccion,\"rb\")\n",
    "    leerArchivo = archivo.read()\n",
    "    listaBinarios.append(leerArchivo)\n",
    "    archivo.close"
   ]
  },
  {
   "cell_type": "markdown",
   "id": "37ec4427",
   "metadata": {},
   "source": [
    "## Conectarse a la base de datos y añadir los audios:"
   ]
  },
  {
   "cell_type": "code",
   "execution_count": 3,
   "id": "7330ad52",
   "metadata": {},
   "outputs": [],
   "source": [
    "MONGO_URI = 'mongodb://localhost:27017'\n",
    "client = MongoClient(MONGO_URI)\n",
    "db = client['FuSA_Diego']"
   ]
  },
  {
   "cell_type": "code",
   "execution_count": 4,
   "id": "fb87b9a0",
   "metadata": {},
   "outputs": [],
   "source": [
    "collectionArchivos = db['archivos']"
   ]
  },
  {
   "cell_type": "code",
   "execution_count": 5,
   "id": "1d07ecf2",
   "metadata": {},
   "outputs": [],
   "source": [
    "for i in range(1,6):\n",
    "    collectionArchivos.update_one({'id_audio':i},{'$set': {'audio':listaBinarios[i-1]}})"
   ]
  }
 ],
 "metadata": {
  "kernelspec": {
   "display_name": "Python 3",
   "language": "python",
   "name": "python3"
  },
  "language_info": {
   "codemirror_mode": {
    "name": "ipython",
    "version": 3
   },
   "file_extension": ".py",
   "mimetype": "text/x-python",
   "name": "python",
   "nbconvert_exporter": "python",
   "pygments_lexer": "ipython3",
   "version": "3.9.5"
  }
 },
 "nbformat": 4,
 "nbformat_minor": 5
}
