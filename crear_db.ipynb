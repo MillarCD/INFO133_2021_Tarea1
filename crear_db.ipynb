{
 "cells": [
  {
   "cell_type": "code",
   "execution_count": 2,
   "id": "809ebe4d",
   "metadata": {},
   "outputs": [],
   "source": [
    "import numpy as np\n",
    "import pandas as pd\n",
    "from pymongo import MongoClient"
   ]
  },
  {
   "cell_type": "markdown",
   "id": "d7fc91c3",
   "metadata": {},
   "source": [
    "## Poner los datos en un diccionario"
   ]
  },
  {
   "cell_type": "code",
   "execution_count": 3,
   "id": "a683ba01",
   "metadata": {
    "scrolled": false
   },
   "outputs": [],
   "source": [
    "df = pd.read_csv('datos.csv')\n",
    "#df"
   ]
  },
  {
   "cell_type": "code",
   "execution_count": 4,
   "id": "e3347366",
   "metadata": {},
   "outputs": [],
   "source": [
    "usuarios = df.loc[:,'rut':'apellido'].to_dict(orient='records')\n",
    "datos = df.loc[:,'id_audio':].to_dict(orient='records')\n",
    "fuentes = [[{'tipo_fuente':'Animales','descripcion':'perro ladrando','analizado_humano':1}],\n",
    "           [{'tipo_fuente':'Vehiculos','descripcion':'ambulancia','analizado_humano':0,'porcentaje':0.95},\n",
    "            {'tipo_fuente':'Alertas','descripcion':'ambulancia','analizado_humano':0,'porcentaje':0.95}\n",
    "           ],\n",
    "           [{'tipo_fuente':'Medio ambientales','descripcion':'tormenta en invierno','analizado_humano':0,'porcentaje':0.7}],\n",
    "           [{'tipo_fuente':'Mecanicos','descripcion':'hombre cortando con motosierra','analizado_humano':1}],\n",
    "           [{'tipo_fuente':'Vehiculos','descripcion':'transporte publico en el centro','analizado_humano':0,'porcentaje':0.97}]\n",
    "          ]\n",
    "for i,dato in enumerate(datos):\n",
    "    dato.update({'usuario':usuarios[i],'fuentes':fuentes[i]})"
   ]
  },
  {
   "cell_type": "markdown",
   "id": "ddc163aa",
   "metadata": {},
   "source": [
    "## Insertar valores en la coleccion usuarios y archivos audio"
   ]
  },
  {
   "cell_type": "markdown",
   "id": "c7210abf",
   "metadata": {},
   "source": [
    "### Conectarse a la base de datos:"
   ]
  },
  {
   "cell_type": "code",
   "execution_count": 5,
   "id": "b3d0dfc8",
   "metadata": {},
   "outputs": [],
   "source": [
    "MONGO_URI = 'mongodb://localhost:27017'\n",
    "client = MongoClient(MONGO_URI)\n",
    "\n",
    "db = client['FuSA_Diego'] #almacena la base de datos"
   ]
  },
  {
   "cell_type": "markdown",
   "id": "22cc8470",
   "metadata": {},
   "source": [
    "### Crear las colecciones y inserta los datos:"
   ]
  },
  {
   "cell_type": "code",
   "execution_count": 6,
   "id": "4eeee48a",
   "metadata": {
    "scrolled": true
   },
   "outputs": [
    {
     "data": {
      "text/plain": [
       "<pymongo.results.InsertManyResult at 0x7f1cfbdb7d40>"
      ]
     },
     "execution_count": 6,
     "metadata": {},
     "output_type": "execute_result"
    }
   ],
   "source": [
    "collectionUsuarios = db['usuarios']          # crea una coleccion\n",
    "collectionUsuarios.insert_many(usuarios)\n",
    "\n",
    "collectionArchivos = db['archivos']\n",
    "collectionArchivos.insert_many(datos)"
   ]
  }
 ],
 "metadata": {
  "kernelspec": {
   "display_name": "Python 3",
   "language": "python",
   "name": "python3"
  },
  "language_info": {
   "codemirror_mode": {
    "name": "ipython",
    "version": 3
   },
   "file_extension": ".py",
   "mimetype": "text/x-python",
   "name": "python",
   "nbconvert_exporter": "python",
   "pygments_lexer": "ipython3",
   "version": "3.9.5"
  }
 },
 "nbformat": 4,
 "nbformat_minor": 5
}
